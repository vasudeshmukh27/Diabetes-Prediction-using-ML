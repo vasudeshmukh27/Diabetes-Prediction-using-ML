{
 "cells": [
  {
   "cell_type": "markdown",
   "id": "f5ff9f0a",
   "metadata": {},
   "source": [
    "### 1. SETUP & DEPENDENCIES"
   ]
  },
  {
   "cell_type": "code",
   "execution_count": 1,
   "id": "b26082ac",
   "metadata": {},
   "outputs": [],
   "source": [
    "# Import core libraries for data manipulation, numerical computation, and visualization.\n",
    "import pandas as pd\n",
    "import numpy as np\n",
    "import matplotlib.pyplot as plt\n",
    "\n",
    "# Configure matplotlib for inline plotting within a Jupyter Notebook environment.\n",
    "%matplotlib inline"
   ]
  },
  {
   "cell_type": "markdown",
   "id": "34838bd2",
   "metadata": {},
   "source": [
    "### 2. DATA INGESTION"
   ]
  },
  {
   "cell_type": "code",
   "execution_count": 2,
   "id": "f4357d93",
   "metadata": {},
   "outputs": [],
   "source": [
    "# Define the path to the dataset. Using a constant improves maintainability.\n",
    "DATA_SOURCE_PATH = 'diabetes.csv'\n",
    "\n",
    "# Load the dataset into a pandas DataFrame for analysis.\n",
    "# The `_df` suffix is a common convention to denote a DataFrame variable.\n",
    "diabetes_df = pd.read_csv(DATA_SOURCE_PATH)"
   ]
  },
  {
   "cell_type": "markdown",
   "id": "c93f8fd0",
   "metadata": {},
   "source": [
    "### 3. INITIAL DATA VALIDATION"
   ]
  },
  {
   "cell_type": "code",
   "execution_count": 3,
   "id": "6851d93d",
   "metadata": {},
   "outputs": [
    {
     "name": "stdout",
     "output_type": "stream",
     "text": [
      "Successfully loaded dataset. Feature columns are:\n",
      "Index(['Pregnancies', 'Glucose', 'BloodPressure', 'SkinThickness', 'Insulin',\n",
      "       'BMI', 'DiabetesPedigreeFunction', 'Age', 'Outcome'],\n",
      "      dtype='object')\n"
     ]
    }
   ],
   "source": [
    "# As a preliminary step in exploratory data analysis (EDA), inspect the feature\n",
    "# names to verify the dataset loaded correctly and to get a high-level\n",
    "# overview of the available data fields.\n",
    "print(\"Successfully loaded dataset. Feature columns are:\")\n",
    "print(diabetes_df.columns)"
   ]
  },
  {
   "cell_type": "code",
   "execution_count": 4,
   "id": "9db1f816",
   "metadata": {},
   "outputs": [
    {
     "data": {
      "text/html": [
       "<div>\n",
       "<style scoped>\n",
       "    .dataframe tbody tr th:only-of-type {\n",
       "        vertical-align: middle;\n",
       "    }\n",
       "\n",
       "    .dataframe tbody tr th {\n",
       "        vertical-align: top;\n",
       "    }\n",
       "\n",
       "    .dataframe thead th {\n",
       "        text-align: right;\n",
       "    }\n",
       "</style>\n",
       "<table border=\"1\" class=\"dataframe\">\n",
       "  <thead>\n",
       "    <tr style=\"text-align: right;\">\n",
       "      <th></th>\n",
       "      <th>Pregnancies</th>\n",
       "      <th>Glucose</th>\n",
       "      <th>BloodPressure</th>\n",
       "      <th>SkinThickness</th>\n",
       "      <th>Insulin</th>\n",
       "      <th>BMI</th>\n",
       "      <th>DiabetesPedigreeFunction</th>\n",
       "      <th>Age</th>\n",
       "      <th>Outcome</th>\n",
       "    </tr>\n",
       "  </thead>\n",
       "  <tbody>\n",
       "    <tr>\n",
       "      <th>0</th>\n",
       "      <td>6</td>\n",
       "      <td>148</td>\n",
       "      <td>72</td>\n",
       "      <td>35</td>\n",
       "      <td>0</td>\n",
       "      <td>33.6</td>\n",
       "      <td>0.627</td>\n",
       "      <td>50</td>\n",
       "      <td>1</td>\n",
       "    </tr>\n",
       "    <tr>\n",
       "      <th>1</th>\n",
       "      <td>1</td>\n",
       "      <td>85</td>\n",
       "      <td>66</td>\n",
       "      <td>29</td>\n",
       "      <td>0</td>\n",
       "      <td>26.6</td>\n",
       "      <td>0.351</td>\n",
       "      <td>31</td>\n",
       "      <td>0</td>\n",
       "    </tr>\n",
       "    <tr>\n",
       "      <th>2</th>\n",
       "      <td>8</td>\n",
       "      <td>183</td>\n",
       "      <td>64</td>\n",
       "      <td>0</td>\n",
       "      <td>0</td>\n",
       "      <td>23.3</td>\n",
       "      <td>0.672</td>\n",
       "      <td>32</td>\n",
       "      <td>1</td>\n",
       "    </tr>\n",
       "    <tr>\n",
       "      <th>3</th>\n",
       "      <td>1</td>\n",
       "      <td>89</td>\n",
       "      <td>66</td>\n",
       "      <td>23</td>\n",
       "      <td>94</td>\n",
       "      <td>28.1</td>\n",
       "      <td>0.167</td>\n",
       "      <td>21</td>\n",
       "      <td>0</td>\n",
       "    </tr>\n",
       "    <tr>\n",
       "      <th>4</th>\n",
       "      <td>0</td>\n",
       "      <td>137</td>\n",
       "      <td>40</td>\n",
       "      <td>35</td>\n",
       "      <td>168</td>\n",
       "      <td>43.1</td>\n",
       "      <td>2.288</td>\n",
       "      <td>33</td>\n",
       "      <td>1</td>\n",
       "    </tr>\n",
       "  </tbody>\n",
       "</table>\n",
       "</div>"
      ],
      "text/plain": [
       "   Pregnancies  Glucose  BloodPressure  SkinThickness  Insulin   BMI  \\\n",
       "0            6      148             72             35        0  33.6   \n",
       "1            1       85             66             29        0  26.6   \n",
       "2            8      183             64              0        0  23.3   \n",
       "3            1       89             66             23       94  28.1   \n",
       "4            0      137             40             35      168  43.1   \n",
       "\n",
       "   DiabetesPedigreeFunction  Age  Outcome  \n",
       "0                     0.627   50        1  \n",
       "1                     0.351   31        0  \n",
       "2                     0.672   32        1  \n",
       "3                     0.167   21        0  \n",
       "4                     2.288   33        1  "
      ]
     },
     "execution_count": 4,
     "metadata": {},
     "output_type": "execute_result"
    }
   ],
   "source": [
    "diabetes_df.head()"
   ]
  },
  {
   "cell_type": "code",
   "execution_count": 5,
   "id": "50bad90e",
   "metadata": {},
   "outputs": [
    {
     "name": "stdout",
     "output_type": "stream",
     "text": [
      "Dimension of diabetes data: (768, 9)\n"
     ]
    }
   ],
   "source": [
    "# Print the dimensions (rows, columns) of the diabetes dataset to verify its size\n",
    "print(\"Dimension of diabetes data: {}\".format(diabetes_df.shape))"
   ]
  },
  {
   "cell_type": "code",
   "execution_count": 6,
   "id": "9eb0ec33",
   "metadata": {},
   "outputs": [
    {
     "name": "stdout",
     "output_type": "stream",
     "text": [
      "Outcome\n",
      "0    500\n",
      "1    268\n",
      "dtype: int64\n"
     ]
    }
   ],
   "source": [
    "# Display the count of records grouped by the 'Outcome' column \n",
    "# (0 = non-diabetic, 1 = diabetic) to check class distribution\n",
    "print(diabetes_df.groupby('Outcome').size())"
   ]
  },
  {
   "cell_type": "markdown",
   "id": "c20f4ea8",
   "metadata": {},
   "source": [
    "### 4. Visualizing Class Distribution\n"
   ]
  },
  {
   "cell_type": "code",
   "execution_count": 7,
   "id": "6d963748",
   "metadata": {},
   "outputs": [
    {
     "name": "stderr",
     "output_type": "stream",
     "text": [
      "C:\\Users\\vasud\\AppData\\Local\\Temp\\ipykernel_14172\\3722245465.py:6: FutureWarning: \n",
      "\n",
      "Passing `palette` without assigning `hue` is deprecated and will be removed in v0.14.0. Assign the `x` variable to `hue` and set `legend=False` for the same effect.\n",
      "\n",
      "  sns.countplot(x='Outcome', data=diabetes_df, palette=['blue', 'orange'], label=\"Count\")\n"
     ]
    },
    {
     "data": {
      "image/png": "[encoded data removed]",
      "text/plain": [
       "<Figure size 640x480 with 1 Axes>"
      ]
     },
     "metadata": {},
     "output_type": "display_data"
    }
   ],
   "source": [
    "# Import seaborn for visualization\n",
    "import seaborn as sns  \n",
    "\n",
    "# Plot the count of each class in the 'Outcome' column \n",
    "# (helps visualize class imbalance in the dataset)\n",
    "sns.countplot(x='Outcome', data=diabetes_df, palette=['blue', 'orange'], label=\"Count\")\n",
    "\n",
    "plt.title(\"Distribution of Diabetes Outcomes\")\n",
    "plt.xlabel(\"Outcome (0 = Non-Diabetic, 1 = Diabetic)\")\n",
    "plt.ylabel(\"Count\")\n",
    "plt.show()"
   ]
  },
  {
   "cell_type": "markdown",
   "id": "578f504c",
   "metadata": {},
   "source": [
    "### 5. Dataset Overview\n"
   ]
  },
  {
   "cell_type": "code",
   "execution_count": 9,
   "id": "b5e7136c",
   "metadata": {},
   "outputs": [
    {
     "name": "stdout",
     "output_type": "stream",
     "text": [
      "<class 'pandas.core.frame.DataFrame'>\n",
      "RangeIndex: 768 entries, 0 to 767\n",
      "Data columns (total 9 columns):\n",
      " #   Column                    Non-Null Count  Dtype  \n",
      "---  ------                    --------------  -----  \n",
      " 0   Pregnancies               768 non-null    int64  \n",
      " 1   Glucose                   768 non-null    int64  \n",
      " 2   BloodPressure             768 non-null    int64  \n",
      " 3   SkinThickness             768 non-null    int64  \n",
      " 4   Insulin                   768 non-null    int64  \n",
      " 5   BMI                       768 non-null    float64\n",
      " 6   DiabetesPedigreeFunction  768 non-null    float64\n",
      " 7   Age                       768 non-null    int64  \n",
      " 8   Outcome                   768 non-null    int64  \n",
      "dtypes: float64(2), int64(7)\n",
      "memory usage: 54.1 KB\n"
     ]
    }
   ],
   "source": [
    "# Display concise summary of the DataFrame\n",
    "# This shows the column names, data types, non-null counts, and memory usage.\n",
    "diabetes_df.info()"
   ]
  },
  {
   "cell_type": "markdown",
   "id": "4a6d95e3",
   "metadata": {},
   "source": [
    "### 6. Model Training and Evaluation with K-Nearest Neighbors (KNN)"
   ]
  },
  {
   "cell_type": "code",
   "execution_count": 10,
   "id": "f6bd61fc",
   "metadata": {},
   "outputs": [],
   "source": [
    "# Import train_test_split for splitting the dataset into training and testing subsets\n",
    "from sklearn.model_selection import train_test_split\n",
    "\n",
    "# Split the dataset into training (X_train, y_train) and testing sets (X_test, y_test)\n",
    "# Features = all columns except 'Outcome'\n",
    "# Target = 'Outcome'\n",
    "X_train, X_test, y_train, y_test = train_test_split(\n",
    "    diabetes_df.loc[:, diabetes_df.columns != 'Outcome'], \n",
    "    diabetes_df['Outcome'], \n",
    "    stratify=diabetes_df['Outcome'], \n",
    "    random_state=66\n",
    ")"
   ]
  },
  {
   "cell_type": "code",
   "execution_count": 11,
   "id": "4c0ad31f",
   "metadata": {},
   "outputs": [],
   "source": [
    "# Import KNN classifier\n",
    "from sklearn.neighbors import KNeighborsClassifier\n",
    "\n",
    "# Lists to store training and testing accuracy scores\n",
    "training_accuracy = []\n",
    "test_accuracy = []\n",
    "\n",
    "# Try different values of k (number of neighbors) from 1 to 10\n",
    "neighbors_settings = range(1, 11)\n",
    "\n",
    "for n_neighbors in neighbors_settings:\n",
    "    # Initialize KNN model with the given number of neighbors\n",
    "    knn = KNeighborsClassifier(n_neighbors=n_neighbors)\n",
    "    \n",
    "    # Fit the model on training data\n",
    "    knn.fit(X_train, y_train)\n",
    "    \n",
    "    # Record accuracy on training set\n",
    "    training_accuracy.append(knn.score(X_train, y_train))\n",
    "    \n",
    "    # Record accuracy on testing set\n",
    "    test_accuracy.append(knn.score(X_test, y_test))"
   ]
  },
  {
   "cell_type": "code",
   "execution_count": 12,
   "id": "9507623d",
   "metadata": {},
   "outputs": [
    {
     "data": {
      "image/png": "[encoded data removed]",
      "text/plain": [
       "<Figure size 640x480 with 1 Axes>"
      ]
     },
     "metadata": {},
     "output_type": "display_data"
    }
   ],
   "source": [
    "# Plot training vs testing accuracy to observe underfitting/overfitting\n",
    "plt.plot(neighbors_settings, training_accuracy, label=\"Training Accuracy\")\n",
    "plt.plot(neighbors_settings, test_accuracy, label=\"Testing Accuracy\")\n",
    "plt.ylabel(\"Accuracy\")\n",
    "plt.xlabel(\"Number of Neighbors (k)\")\n",
    "plt.legend()\n",
    "plt.show()"
   ]
  },
  {
   "cell_type": "markdown",
   "id": "4d1286a8",
   "metadata": {},
   "source": [
    "### 7. Final KNN Model Evaluation"
   ]
  },
  {
   "cell_type": "code",
   "execution_count": 13,
   "id": "025d5b08",
   "metadata": {},
   "outputs": [
    {
     "name": "stdout",
     "output_type": "stream",
     "text": [
      "Accuracy of K-NN classifier on training set: 0.79\n",
      "Accuracy of K-NN classifier on test set: 0.78\n"
     ]
    }
   ],
   "source": [
    "# Initialize KNN classifier with the optimal number of neighbors (k=9)\n",
    "knn = KNeighborsClassifier(n_neighbors=9)\n",
    "\n",
    "# Fit the model on the training data\n",
    "knn.fit(X_train, y_train)\n",
    "\n",
    "# Evaluate and print accuracy on the training set\n",
    "print('Accuracy of K-NN classifier on training set: {:.2f}'.format(knn.score(X_train, y_train)))\n",
    "\n",
    "# Evaluate and print accuracy on the testing set\n",
    "print('Accuracy of K-NN classifier on test set: {:.2f}'.format(knn.score(X_test, y_test)))"
   ]
  },
  {
   "cell_type": "markdown",
   "id": "05af48c5",
   "metadata": {},
   "source": [
    "### 8. Decision Tree Classifier Evaluation"
   ]
  },
  {
   "cell_type": "code",
   "execution_count": null,
   "id": "d3e7406d",
   "metadata": {},
   "outputs": [
    {
     "name": "stdout",
     "output_type": "stream",
     "text": [
      "Accuracy on training set: 1.000\n",
      "Accuracy on test set: 0.714\n"
     ]
    }
   ],
   "source": [
    "# Import Decision Tree Classifier from scikit-learn\n",
    "from sklearn.tree import DecisionTreeClassifier\n",
    "\n",
    "# Initialize the Decision Tree model\n",
    "tree = DecisionTreeClassifier(random_state=0)\n",
    "\n",
    "# Train the model on the training data\n",
    "tree.fit(X_train, y_train)\n",
    "\n",
    "# Evaluate and print accuracy on the training set\n",
    "print(\"Accuracy on training set: {:.3f}\".format(tree.score(X_train, y_train)))\n",
    "\n",
    "# Evaluate and print accuracy on the testing set\n",
    "print(\"Accuracy on test set: {:.3f}\".format(tree.score(X_test, y_test)))"
   ]
  },
  {
   "cell_type": "markdown",
   "id": "7927ca93",
   "metadata": {},
   "source": [
    "The Decision Tree Classifier achieved 100% accuracy on the training set, but performed significantly worse on the test set. This indicates that the model is overfitting; it memorizes the training data rather than learning patterns that generalize to unseen data.\n",
    "\n",
    "To address this, we applied pre-pruning by setting max_depth=3. Limiting the depth of the tree reduces overfitting, which slightly lowers training accuracy but improves test accuracy, resulting in a more balanced and generalizable model."
   ]
  },
  {
   "cell_type": "markdown",
   "id": "6e6b0309",
   "metadata": {},
   "source": [
    "### 9. Decision Tree Classifier with Pre-Pruning (max_depth=3)"
   ]
  },
  {
   "cell_type": "code",
   "execution_count": 15,
   "id": "9a2bbda0",
   "metadata": {},
   "outputs": [
    {
     "name": "stdout",
     "output_type": "stream",
     "text": [
      "Accuracy on training set: 0.773\n",
      "Accuracy on test set: 0.740\n"
     ]
    }
   ],
   "source": [
    "# Initialize Decision Tree with a maximum depth of 3 to reduce overfitting\n",
    "# Limiting depth forces the tree to make more generalized splits\n",
    "tree = DecisionTreeClassifier(max_depth=3, random_state=0)\n",
    "\n",
    "# Train the pruned Decision Tree model\n",
    "tree.fit(X_train, y_train)\n",
    "\n",
    "# Evaluate and print accuracy on the training set\n",
    "print(\"Accuracy on training set: {:.3f}\".format(tree.score(X_train, y_train)))\n",
    "\n",
    "# Evaluate and print accuracy on the testing set\n",
    "print(\"Accuracy on test set: {:.3f}\".format(tree.score(X_test, y_test)))"
   ]
  },
  {
   "cell_type": "markdown",
   "id": "4bb5d339",
   "metadata": {},
   "source": [
    "### Feature Importance in Decision Trees\n",
    "\n",
    "Feature importance indicates how much each feature contributes to the predictions made by a Decision Tree classifier.  \n",
    "It assigns a value between **0 and 1** to each feature:  \n",
    "\n",
    "- **0** → The feature was not used at all for splitting.  \n",
    "- **1** → The feature alone would perfectly predict the target.  \n",
    "\n",
    "The feature importance values across all features always sum up to **1**, providing a clear view of which features drive the model’s decisions the most."
   ]
  },
  {
   "cell_type": "markdown",
   "id": "d5ed860a",
   "metadata": {},
   "source": [
    "### 10. Displaying Feature Importances"
   ]
  },
  {
   "cell_type": "code",
   "execution_count": 16,
   "id": "8af0ab7a",
   "metadata": {},
   "outputs": [
    {
     "name": "stdout",
     "output_type": "stream",
     "text": [
      "Feature importances:\n",
      "[0.04554275 0.6830362  0.         0.         0.         0.27142106\n",
      " 0.         0.        ]\n"
     ]
    }
   ],
   "source": [
    "# Print the feature importance values calculated by the Decision Tree\n",
    "# Each value represents how much a feature contributes to the model's decisions\n",
    "# The values sum to 1 across all features\n",
    "print(\"Feature importances:\\n{}\".format(tree.feature_importances_))"
   ]
  },
  {
   "cell_type": "markdown",
   "id": "0b0d9be7",
   "metadata": {},
   "source": [
    "### 11. Visualizing Feature Importances of the Decision Tree\n"
   ]
  },
  {
   "cell_type": "code",
   "execution_count": 18,
   "id": "54abed9e",
   "metadata": {},
   "outputs": [
    {
     "name": "stdout",
     "output_type": "stream",
     "text": [
      "Feature names: ['Pregnancies', 'Glucose', 'BloodPressure', 'SkinThickness', 'Insulin', 'BMI', 'DiabetesPedigreeFunction', 'Age']\n"
     ]
    },
    {
     "data": {
      "image/png": "[encoded data removed]",
      "text/plain": [
       "<Figure size 800x600 with 1 Axes>"
      ]
     },
     "metadata": {},
     "output_type": "display_data"
    }
   ],
   "source": [
    "# Define the feature names (all columns except 'Outcome')\n",
    "diabetes_features = [x for x in diabetes_df.columns if x != 'Outcome']\n",
    "print(\"Feature names:\", diabetes_features)\n",
    "\n",
    "# Function to plot feature importances for the Decision Tree model\n",
    "def plot_feature_importances_diabetes(model):\n",
    "    plt.figure(figsize=(8, 6))  # Set figure size for readability\n",
    "    \n",
    "    n_features = 8  # Number of features in the dataset\n",
    "    \n",
    "    # Create a horizontal bar chart of feature importances\n",
    "    plt.barh(range(n_features), model.feature_importances_, align='center')\n",
    "    \n",
    "    # Set y-axis labels to feature names\n",
    "    plt.yticks(np.arange(n_features), diabetes_features)\n",
    "    \n",
    "    # Label axes\n",
    "    plt.xlabel(\"Feature Importance\")\n",
    "    plt.ylabel(\"Feature\")\n",
    "    \n",
    "    # Set y-axis limits for clean plotting\n",
    "    plt.ylim(-1, n_features)\n",
    "\n",
    "# Call the function to visualize feature importances of the trained Decision Tree\n",
    "plot_feature_importances_diabetes(tree)"
   ]
  },
  {
   "cell_type": "markdown",
   "id": "73080178",
   "metadata": {},
   "source": [
    "**So the Glucose feature is used the most to predict diabetes.**"
   ]
  },
  {
   "cell_type": "code",
   "execution_count": null,
   "id": "23c3155c",
   "metadata": {},
   "outputs": [],
   "source": []
  },
  {
   "cell_type": "code",
   "execution_count": null,
   "id": "e7e5f5ed",
   "metadata": {},
   "outputs": [],
   "source": []
  },
  {
   "cell_type": "code",
   "execution_count": null,
   "id": "67e10767",
   "metadata": {},
   "outputs": [],
   "source": []
  }
 ],
 "metadata": {
  "kernelspec": {
   "display_name": ".venv",
   "language": "python",
   "name": "python3"
  },
  "language_info": {
   "codemirror_mode": {
    "name": "ipython",
    "version": 3
   },
   "file_extension": ".py",
   "mimetype": "text/x-python",
   "name": "python",
   "nbconvert_exporter": "python",
   "pygments_lexer": "ipython3",
   "version": "3.10.11"
  }
 },
 "nbformat": 4,
 "nbformat_minor": 5
}
